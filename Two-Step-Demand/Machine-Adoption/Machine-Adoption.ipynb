{
 "cells": [
  {
   "cell_type": "markdown",
   "metadata": {},
   "source": [
    "# Machine Adoption\n",
    "## December, 2016\n",
    "## Xiliang Lin"
   ]
  },
  {
   "cell_type": "markdown",
   "metadata": {},
   "source": [
    "### 1. Setup Parallel Working Environment"
   ]
  },
  {
   "cell_type": "markdown",
   "metadata": {},
   "source": [
    "Machine Specification"
   ]
  },
  {
   "cell_type": "code",
   "execution_count": 1,
   "metadata": {
    "collapsed": false
   },
   "outputs": [
    {
     "data": {
      "text/plain": [
       "1-element Array{Tuple{String,Int64},1}:\n",
       " (\"omar.gunty.org\",32)"
      ]
     },
     "execution_count": 1,
     "metadata": {},
     "output_type": "execute_result"
    }
   ],
   "source": [
    "# machines = [(\"bushgcn14\", 32), (\"bushgcn15\", 32),  (\"bushgcn16\", 32)]; # On Grid\n",
    "machines = [(\"omar.gunty.org\", 32)]"
   ]
  },
  {
   "cell_type": "markdown",
   "metadata": {},
   "source": [
    "Add Remote Machine Workers"
   ]
  },
  {
   "cell_type": "code",
   "execution_count": 2,
   "metadata": {
    "collapsed": false
   },
   "outputs": [],
   "source": [
    "# addprocs(machines; tunnel=true)"
   ]
  },
  {
   "cell_type": "code",
   "execution_count": 3,
   "metadata": {
    "collapsed": false
   },
   "outputs": [
    {
     "data": {
      "text/plain": [
       "2-element Array{Int64,1}:\n",
       " 2\n",
       " 3"
      ]
     },
     "execution_count": 3,
     "metadata": {},
     "output_type": "execute_result"
    }
   ],
   "source": [
    "# Add procs on current host\n",
    "addprocs(2)"
   ]
  },
  {
   "cell_type": "markdown",
   "metadata": {},
   "source": [
    "Obtain the list of workers"
   ]
  },
  {
   "cell_type": "code",
   "execution_count": 4,
   "metadata": {
    "collapsed": false
   },
   "outputs": [
    {
     "data": {
      "text/plain": [
       "2-element Array{Int64,1}:\n",
       " 2\n",
       " 3"
      ]
     },
     "execution_count": 4,
     "metadata": {},
     "output_type": "execute_result"
    }
   ],
   "source": [
    "np = workers()"
   ]
  },
  {
   "cell_type": "code",
   "execution_count": 5,
   "metadata": {
    "collapsed": false
   },
   "outputs": [
    {
     "data": {
      "text/plain": [
       "20-element Array{Float64,1}:\n",
       " 0.00861644\n",
       " 0.0697689 \n",
       " 0.34653   \n",
       " 0.252707  \n",
       " 0.75686   \n",
       " 0.0957579 \n",
       " 0.49259   \n",
       " 0.67633   \n",
       " 0.458922  \n",
       " 0.786728  \n",
       " 0.490022  \n",
       " 0.161784  \n",
       " 0.194276  \n",
       " 0.398271  \n",
       " 0.0847704 \n",
       " 0.645657  \n",
       " 0.715085  \n",
       " 0.0944031 \n",
       " 0.381169  \n",
       " 0.567396  "
      ]
     },
     "execution_count": 5,
     "metadata": {},
     "output_type": "execute_result"
    }
   ],
   "source": [
    "remotecall_fetch(rand, 2, 20) # Test worker"
   ]
  },
  {
   "cell_type": "markdown",
   "metadata": {},
   "source": [
    "Function similar to MPI broadcast"
   ]
  },
  {
   "cell_type": "code",
   "execution_count": 6,
   "metadata": {
    "collapsed": false
   },
   "outputs": [
    {
     "data": {
      "text/plain": [
       "broad_mpi (generic function with 1 method)"
      ]
     },
     "execution_count": 6,
     "metadata": {},
     "output_type": "execute_result"
    }
   ],
   "source": [
    "function broad_mpi(expr::Expr)\n",
    "  for p in np\n",
    "      @spawnat p eval(expr)\n",
    "  end\n",
    "end"
   ]
  },
  {
   "cell_type": "markdown",
   "metadata": {},
   "source": [
    "### 2. Settings and Load packages"
   ]
  },
  {
   "cell_type": "code",
   "execution_count": 7,
   "metadata": {
    "collapsed": false
   },
   "outputs": [],
   "source": [
    "#Set Directory\n",
    "cd(\"/home/xlin0/Keurig\");\n",
    "\n",
    "#Load Packages\n",
    "using Distributions, Optim, FastGaussQuadrature, Calculus"
   ]
  },
  {
   "cell_type": "code",
   "execution_count": 8,
   "metadata": {
    "collapsed": true
   },
   "outputs": [],
   "source": [
    "broad_mpi(:(using Distributions))"
   ]
  },
  {
   "cell_type": "markdown",
   "metadata": {},
   "source": [
    "### 3. Solve the Value of Holding the Machine"
   ]
  },
  {
   "cell_type": "markdown",
   "metadata": {},
   "source": [
    "Set parameters of dynamic problem\n",
    "\n",
    "Assume the utility gain is governed by the following process\n",
    "$\\mu_t = \\alpha_0 +\\alpha_1\\mu_{t-1}+\\varepsilon_t$, and $\\varepsilon_t \\sim N(0, \\sigma_0^2)$"
   ]
  },
  {
   "cell_type": "code",
   "execution_count": 9,
   "metadata": {
    "collapsed": true
   },
   "outputs": [],
   "source": [
    "β  = 0.995; # Discount factor\n",
    "α0 = 0.009071309; \n",
    "α1 = 0.941864068;\n",
    "σ0 = 0.07586;"
   ]
  },
  {
   "cell_type": "markdown",
   "metadata": {},
   "source": [
    "Put discount factor to remote workers"
   ]
  },
  {
   "cell_type": "code",
   "execution_count": 10,
   "metadata": {
    "collapsed": true
   },
   "outputs": [],
   "source": [
    "broad_mpi(:(β=$β))"
   ]
  },
  {
   "cell_type": "markdown",
   "metadata": {},
   "source": [
    "Obtain the grid of value function"
   ]
  },
  {
   "cell_type": "code",
   "execution_count": 11,
   "metadata": {
    "collapsed": false
   },
   "outputs": [
    {
     "data": {
      "text/plain": [
       "20-element Array{Float64,1}:\n",
       "  0.0308267\n",
       "  0.276301 \n",
       "  0.761205 \n",
       "  1.4736   \n",
       "  2.39594  \n",
       "  3.50552  \n",
       "  4.77501  \n",
       "  6.17317  \n",
       "  7.66555  \n",
       "  9.21541  \n",
       " 10.7846   \n",
       " 12.3345   \n",
       " 13.8268   \n",
       " 15.225    \n",
       " 16.4945   \n",
       " 17.6041   \n",
       " 18.5264   \n",
       " 19.2388   \n",
       " 19.7237   \n",
       " 19.9692   "
      ]
     },
     "execution_count": 11,
     "metadata": {},
     "output_type": "execute_result"
    }
   ],
   "source": [
    "@everywhere nodes = 20; # Degree of Chebyshev Zeros (nodes)\n",
    "@everywhere order = 5; # Degree of Chebyshev Polynomials\n",
    "@everywhere (a, b) = (0., 20.); # a need to be greater/equal to 1 for the function to be well behaved.\n",
    "(cnode, cweight)=gausschebyshev(nodes); # Interpolation Nodes\n",
    "tcnode = (cnode+1) * (b-a)/2 + a; # Transformed nodes"
   ]
  },
  {
   "cell_type": "markdown",
   "metadata": {},
   "source": [
    "Initialize W(ν)"
   ]
  },
  {
   "cell_type": "code",
   "execution_count": 12,
   "metadata": {
    "collapsed": false
   },
   "outputs": [
    {
     "data": {
      "text/plain": [
       "6×20 Array{Float64,2}:\n",
       "  1.0        1.0        1.0          …   1.0          1.0       1.0     \n",
       " -0.996917  -0.97237   -0.92388          0.92388      0.97237   0.996917\n",
       "  0.987688   0.891007   0.707107         0.707107     0.891007  0.987688\n",
       " -0.97237   -0.760406  -0.382683         0.382683     0.760406  0.97237 \n",
       "  0.951057   0.587785  -4.28626e-16     -1.60812e-16  0.587785  0.951057\n",
       " -0.92388   -0.382683   0.382683     …  -0.382683     0.382683  0.92388 "
      ]
     },
     "execution_count": 12,
     "metadata": {},
     "output_type": "execute_result"
    }
   ],
   "source": [
    "W1 = zeros(Float64, nodes);\n",
    "@everywhere T(i, x) = cos((i-1) .* acos(x));\n",
    "Tmat = Float64[T(i,j) for i = 1:(order+1), j in cnode]; # Chebyshev Polynomial Matrix"
   ]
  },
  {
   "cell_type": "markdown",
   "metadata": {},
   "source": [
    "Chebyshev Approximation of Value Function"
   ]
  },
  {
   "cell_type": "code",
   "execution_count": 13,
   "metadata": {
    "collapsed": false
   },
   "outputs": [
    {
     "data": {
      "text/plain": [
       "capprox (generic function with 1 method)"
      ]
     },
     "execution_count": 13,
     "metadata": {},
     "output_type": "execute_result"
    }
   ],
   "source": [
    "function capprox(w, x::Real)\n",
    "    length(w) == nodes ? length(w) : error(\"function values not the same length as interpolation nodes\")\n",
    "    Wmat = repmat(w, 1, (order+1)); # Step 3 - function value at transformed node\n",
    "    ccoef = diag(Tmat * Wmat) ./ sum(Tmat.^2,2)[:,1]; #Step 4 Compute coefficients\n",
    "    if (a<=x<=b)\n",
    "        return sum(Float64[T(i, 2 * (x-a)/(b-a) - 1) * ccoef[i] for i = 1:(order+1)]);\n",
    "    elseif (x<a)\n",
    "        abase = capprox(w, a)\n",
    "        aslope = (capprox(w, a+0.0001) - abase)/0.0001\n",
    "        return abase + aslope * (x-a) # Linear Extrapolation\n",
    "    else\n",
    "        bbase = capprox(w, b)\n",
    "        bslope = (bbase - capprox(w, b - 0.0001))/0.0001\n",
    "        return bbase + bslope * (x-b) # Linear Extrapolation\n",
    "    end\n",
    "end"
   ]
  },
  {
   "cell_type": "markdown",
   "metadata": {},
   "source": [
    "Chebysheve Approximation of Value Function using Coefficients"
   ]
  },
  {
   "cell_type": "code",
   "execution_count": 14,
   "metadata": {
    "collapsed": true
   },
   "outputs": [],
   "source": [
    "@everywhere function coefun(ccoef, x::Real)\n",
    "    if (a<=x<=b)\n",
    "        return sum(Float64[T(i, 2. * (x-a)/(b-a) - 1.) * ccoef[i] for i = 1:(order+1)]);\n",
    "    elseif (x<a)\n",
    "        abase = coefun(ccoef, a)\n",
    "        aslope = (coefun(ccoef, a+0.0001) - abase)/0.0001\n",
    "        return abase + aslope * (x-a) # Linear Extrapolation\n",
    "    else\n",
    "        bbase = ccoef(ccoef, b)\n",
    "        bslope = (bbase - coefun(ccoef, b - 0.0001))/0.0001\n",
    "        return bbase + bslope * (x-b) # Linear Extrapolation\n",
    "    end\n",
    "end"
   ]
  },
  {
   "cell_type": "markdown",
   "metadata": {},
   "source": [
    "Get Coefficient Function"
   ]
  },
  {
   "cell_type": "code",
   "execution_count": 15,
   "metadata": {
    "collapsed": false
   },
   "outputs": [
    {
     "data": {
      "text/plain": [
       "getcoef (generic function with 1 method)"
      ]
     },
     "execution_count": 15,
     "metadata": {},
     "output_type": "execute_result"
    }
   ],
   "source": [
    "function getcoef(w)\n",
    "    Wmat = repmat(w, 1, (order+1)); # Step 3 - function value at transformed node\n",
    "    ccoef = diag(Tmat * Wmat) ./ sum(Tmat.^2,2)[:,1]; #Step 4 Compute coefficients\n",
    "    return ccoef\n",
    "end"
   ]
  },
  {
   "cell_type": "markdown",
   "metadata": {},
   "source": [
    "Gauss Hermite Integration"
   ]
  },
  {
   "cell_type": "code",
   "execution_count": 16,
   "metadata": {
    "collapsed": false
   },
   "outputs": [
    {
     "data": {
      "text/plain": [
       "hermiteint (generic function with 1 method)"
      ]
     },
     "execution_count": 16,
     "metadata": {},
     "output_type": "execute_result"
    }
   ],
   "source": [
    "(hermitenodes, hermitewts)=gausshermite(9);\n",
    "function hermiteint(f::Function, μ::Float64, σ::Float64)\n",
    "    return sqrt(1./pi) * sum(map(f, sqrt(2.)*σ*hermitenodes + μ) .* hermitewts);\n",
    "end"
   ]
  },
  {
   "cell_type": "markdown",
   "metadata": {},
   "source": [
    "Bellman - Value Function Iteration"
   ]
  },
  {
   "cell_type": "code",
   "execution_count": 17,
   "metadata": {
    "collapsed": false
   },
   "outputs": [
    {
     "data": {
      "text/plain": [
       "W1V (generic function with 1 method)"
      ]
     },
     "execution_count": 17,
     "metadata": {},
     "output_type": "execute_result"
    }
   ],
   "source": [
    "function W1V(W)\n",
    "    wappx(x::Real) = capprox(W, x);\n",
    "    function wfun(ν::Real)\n",
    "        return ν + β * hermiteint(wappx, α0+α1*ν, σ0)\n",
    "    end\n",
    "    return map(wfun, tcnode)\n",
    "end"
   ]
  },
  {
   "cell_type": "markdown",
   "metadata": {},
   "source": [
    "Solve the Bellman equation for valuation through value function iteration"
   ]
  },
  {
   "cell_type": "code",
   "execution_count": 18,
   "metadata": {
    "collapsed": false
   },
   "outputs": [],
   "source": [
    "tol = 1e-8\n",
    "err = 1;\n",
    "nx = 0;\n",
    "while (err > tol)\n",
    "    nx = nx+1;\n",
    "    W1n = W1V(W1)\n",
    "    err = sum(abs(W1n-W1))\n",
    "    #println(\"Error is $(err), and interation is $(nx)\")\n",
    "    W1 = W1n\n",
    "end"
   ]
  },
  {
   "cell_type": "markdown",
   "metadata": {},
   "source": [
    "Obtain the coefficients for Chebyshev Coefficients"
   ]
  },
  {
   "cell_type": "code",
   "execution_count": 19,
   "metadata": {
    "collapsed": false
   },
   "outputs": [],
   "source": [
    "W1coef = getcoef(W1)\n",
    "broad_mpi(:(W1coef = $W1coef))"
   ]
  },
  {
   "cell_type": "markdown",
   "metadata": {},
   "source": [
    "### 4. Read Data and Put Data To Each Worker"
   ]
  },
  {
   "cell_type": "code",
   "execution_count": 20,
   "metadata": {
    "collapsed": false
   },
   "outputs": [
    {
     "data": {
      "text/plain": [
       "2314429×17 Array{Any,2}:\n",
       "  2000126  0        1    1  127.332  …  0  0.00281963  0  0  0  3  0  0   5\n",
       "  2000126  0        2    2  127.332     0  0.00281963  0  0  0  2  0  0   5\n",
       "  2000126  0        3    3  124.989     0  0.00296699  0  0  0  1  0  0   5\n",
       "  2000126  0        4    4  127.332     0  0.00296699  0  0  0  0  0  0   5\n",
       "  2000126  0        5    5  127.332     0  0.00296699  0  0  0  0  0  0   5\n",
       "  2000126  0        6    6  127.332  …  0  0.00296699  0  0  0  0  0  0   6\n",
       "  2000126  0        7    7  127.332     0  0.00296699  0  0  0  0  0  0   6\n",
       "  2000126  0        8    8  127.332     0  0.00296699  0  0  0  0  0  0   6\n",
       "  2000126  0        9    9  127.332     0  0.00296699  0  0  0  0  0  0   6\n",
       "  2000126  0       10   10  127.332     0  0.00311435  0  0  0  0  0  0   6\n",
       "  2000126  0       11   11  127.332  …  0  0.00311435  0  0  0  0  0  0   5\n",
       "  2000126  0       12   12  121.317     0  0.00311435  0  0  0  0  0  0   5\n",
       "  2000126  0       13   13  127.332     0  0.00311435  0  0  0  0  0  0   5\n",
       "        ⋮                            ⋱                 ⋮              ⋮    \n",
       " 31060188  0  2314418  302  136.223     0  0.206521    0  0  0  0  0  0  35\n",
       " 31060188  0  2314419  303  138.034     0  0.206639    0  0  0  0  0  0  35\n",
       " 31060188  0  2314420  304  132.17      0  0.207069    0  0  0  0  0  0  35\n",
       " 31060188  0  2314421  305  130.216  …  0  0.207069    0  0  0  0  0  0  35\n",
       " 31060188  0  2314422  306  127.959     0  0.207069    0  0  0  0  0  0  36\n",
       " 31060188  0  2314423  307  135.357     0  0.207127    0  0  0  0  0  0  36\n",
       " 31060188  0  2314424  308  134.535     0  0.207186    0  0  0  0  0  0  36\n",
       " 31060188  0  2314425  309  125.454     0  0.207186    1  0  0  0  0  0  36\n",
       " 31060188  0  2314426  310  129.948  …  0  0.207537    0  0  1  0  0  0  36\n",
       " 31060188  0  2314427  311  126.406     0  0.207786    0  0  1  0  0  0  36\n",
       " 31060188  0  2314428  312  135.585     0  0.207786    0  1  0  0  0  0  37\n",
       " 31060188  0  2314429  313  126.138     0  0.207786    0  1  0  0  0  0  37"
      ]
     },
     "execution_count": 20,
     "metadata": {},
     "output_type": "execute_result"
    }
   ],
   "source": [
    "hh_panel = readdlm(\"Data/Machine-Adoption/HW-MU-Panel.csv\", ',', skipstart=1); # Household Machine Adoption Panel"
   ]
  },
  {
   "cell_type": "markdown",
   "metadata": {},
   "source": [
    "Omit Observations with NA values"
   ]
  },
  {
   "cell_type": "code",
   "execution_count": 21,
   "metadata": {
    "collapsed": false
   },
   "outputs": [
    {
     "data": {
      "text/plain": [
       "2242429×17 Array{Any,2}:\n",
       "  2000126  0        1    1  127.332  …  0  0.00281963  0  0  0  3  0  0   5\n",
       "  2000126  0        2    2  127.332     0  0.00281963  0  0  0  2  0  0   5\n",
       "  2000126  0        3    3  124.989     0  0.00296699  0  0  0  1  0  0   5\n",
       "  2000126  0        4    4  127.332     0  0.00296699  0  0  0  0  0  0   5\n",
       "  2000126  0        5    5  127.332     0  0.00296699  0  0  0  0  0  0   5\n",
       "  2000126  0        6    6  127.332  …  0  0.00296699  0  0  0  0  0  0   6\n",
       "  2000126  0        7    7  127.332     0  0.00296699  0  0  0  0  0  0   6\n",
       "  2000126  0        8    8  127.332     0  0.00296699  0  0  0  0  0  0   6\n",
       "  2000126  0        9    9  127.332     0  0.00296699  0  0  0  0  0  0   6\n",
       "  2000126  0       10   10  127.332     0  0.00311435  0  0  0  0  0  0   6\n",
       "  2000126  0       11   11  127.332  …  0  0.00311435  0  0  0  0  0  0   5\n",
       "  2000126  0       12   12  121.317     0  0.00311435  0  0  0  0  0  0   5\n",
       "  2000126  0       13   13  127.332     0  0.00311435  0  0  0  0  0  0   5\n",
       "        ⋮                            ⋱                 ⋮              ⋮    \n",
       " 31060188  0  2314418  302  136.223     0  0.206521    0  0  0  0  0  0  35\n",
       " 31060188  0  2314419  303  138.034     0  0.206639    0  0  0  0  0  0  35\n",
       " 31060188  0  2314420  304  132.17      0  0.207069    0  0  0  0  0  0  35\n",
       " 31060188  0  2314421  305  130.216  …  0  0.207069    0  0  0  0  0  0  35\n",
       " 31060188  0  2314422  306  127.959     0  0.207069    0  0  0  0  0  0  36\n",
       " 31060188  0  2314423  307  135.357     0  0.207127    0  0  0  0  0  0  36\n",
       " 31060188  0  2314424  308  134.535     0  0.207186    0  0  0  0  0  0  36\n",
       " 31060188  0  2314425  309  125.454     0  0.207186    1  0  0  0  0  0  36\n",
       " 31060188  0  2314426  310  129.948  …  0  0.207537    0  0  1  0  0  0  36\n",
       " 31060188  0  2314427  311  126.406     0  0.207786    0  0  1  0  0  0  36\n",
       " 31060188  0  2314428  312  135.585     0  0.207786    0  1  0  0  0  0  37\n",
       " 31060188  0  2314429  313  126.138     0  0.207786    0  1  0  0  0  0  37"
      ]
     },
     "execution_count": 21,
     "metadata": {},
     "output_type": "execute_result"
    }
   ],
   "source": [
    "# NA list\n",
    "None_NA_list=Array(Int64, 0)\n",
    "for i in 1:size(hh_panel, 1)\n",
    "  if (typeof(hh_panel[i,9]))<:Real\n",
    "    push!(None_NA_list, i)\n",
    "  end\n",
    "end\n",
    "hh_panel = hh_panel[None_NA_list, :]"
   ]
  },
  {
   "cell_type": "markdown",
   "metadata": {},
   "source": [
    "Put data to each worker"
   ]
  },
  {
   "cell_type": "code",
   "execution_count": 22,
   "metadata": {
    "collapsed": false
   },
   "outputs": [],
   "source": [
    "(nr, nc) = size(hh_panel)\n",
    "chunk_size = ceil(Int, nr/length(np))\n",
    "@sync begin\n",
    "    for p in np\n",
    "        if p != np[end]\n",
    "            r_expr = :(hh_panel = $(hh_panel[((p-2)*chunk_size+1):((p-1)*chunk_size), :]))\n",
    "        else\n",
    "            r_expr = :(hh_panel = $(hh_panel[((p-2)*chunk_size+1):end, :]))\n",
    "        end\n",
    "        @spawnat p eval(r_expr)\n",
    "    end\n",
    "end"
   ]
  },
  {
   "cell_type": "markdown",
   "metadata": {},
   "source": [
    "Define Corresponding Vectors"
   ]
  },
  {
   "cell_type": "code",
   "execution_count": 23,
   "metadata": {
    "collapsed": false
   },
   "outputs": [],
   "source": [
    "@everywhere purch_vec = convert(Array{Int64}, hh_panel[:, 9])\n",
    "@everywhere XMat = convert(Array{Float64}, hh_panel[:, [5, 6, 8]])\n",
    "@everywhere ZMat = hh_panel[:, 10:15]\n",
    "@everywhere ZMat = sparse(convert(Array{Float64}, hcat(ones(Float64, size(purch_vec)), ZMat)))\n",
    "@everywhere pbar_n2 =  0.41564 * XMat[:,1] + 0.58436 * XMat[:,2];\n",
    "@everywhere SMat = transpose(hcat(8.143757 + 0.938283*pbar_n2, pbar_n2, 0.0795693 + 0.9577252*XMat[:,3]))"
   ]
  },
  {
   "cell_type": "markdown",
   "metadata": {},
   "source": [
    "Purge hh_adoption"
   ]
  },
  {
   "cell_type": "code",
   "execution_count": 25,
   "metadata": {
    "collapsed": true
   },
   "outputs": [],
   "source": [
    "@everywhere pbar_n2 = 0;\n",
    "@sync broad_mpi(:(hh_adoption = 0));\n",
    "@everywhere gc();"
   ]
  },
  {
   "cell_type": "markdown",
   "metadata": {},
   "source": [
    "### 5. Value function when the household doesn't hold Keurig machine"
   ]
  },
  {
   "cell_type": "markdown",
   "metadata": {},
   "source": [
    "Functions for Approximating the W Function\n",
    "\n",
    "Kernal Density Function\n",
    "\n",
    "W0 approximation\n",
    "\n",
    "θ1 is the parameter vector\n",
    "\n",
    "θ0 is the history of stored parameters\n",
    "\n",
    "H is bandwidth matrix\n",
    "\n",
    "wmat is the stored value functions"
   ]
  },
  {
   "cell_type": "code",
   "execution_count": 26,
   "metadata": {
    "collapsed": false
   },
   "outputs": [],
   "source": [
    "@everywhere function WApprox(θ1::Vector, θ0::Matrix, H::Matrix, s1::Vector, s0::Matrix, h::Float64, wvec::Vector)\n",
    "    cdist = MvNormal(θ1, H)\n",
    "    wts0 = pdf(cdist, θ0)\n",
    "    pbar_n2 = 0.41564*s1[1] + 0.58436*s1[2]\n",
    "    pbar_n1 = 8.143757 + 0.938283*pbar_n2\n",
    "    sbar_n = 0.0795693 + 0.9577252*s1[3]\n",
    "    sdist = MvNormal([pbar_n1, pbar_n2, sbar_n], diagm([3.683^2, h, 0.6308^2]))\n",
    "    wts1 = pdf(sdist, s0)\n",
    "    wts = wts0 .* wts1\n",
    "    wts[:] = wts ./ sum(wts)\n",
    "    return (sum(wts .* wvec))\n",
    "end"
   ]
  },
  {
   "cell_type": "markdown",
   "metadata": {},
   "source": [
    "Bellman Iteration -- Scaling Version 2 (Scaling the Type I Utility Shock)"
   ]
  },
  {
   "cell_type": "code",
   "execution_count": 27,
   "metadata": {
    "collapsed": true
   },
   "outputs": [],
   "source": [
    "@everywhere function W0V(θ1::Vector, s1::Vector, w::Float64)\n",
    "    return 100*log(exp(0.995*w/100) + exp((θ1[1] + θ1[2] * s1[1] + coefun(W1coef, s1[3]))/100))\n",
    "end"
   ]
  },
  {
   "cell_type": "markdown",
   "metadata": {},
   "source": [
    "Choice Specific Value Function"
   ]
  },
  {
   "cell_type": "code",
   "execution_count": 28,
   "metadata": {
    "collapsed": false
   },
   "outputs": [],
   "source": [
    "@everywhere function pfun(θ1::Vector, θ0::Matrix, H::Matrix, XVec::Vector, s0::Matrix, h::Float64, wvec::Vector, W1coef::Vector)\n",
    "    ex0 = exp(0.995 * WApprox(θ1, θ0, H, XVec, s0, h, wvec)/100)\n",
    "    ex1 = exp((θ1[1] + θ1[2] * XVec[1] + coefun(W1coef, XVec[3]))/100)\n",
    "    return(ex1/(ex0+ex1))\n",
    "end"
   ]
  },
  {
   "cell_type": "code",
   "execution_count": 29,
   "metadata": {
    "collapsed": false
   },
   "outputs": [],
   "source": [
    "@everywhere function pfun(status::Bool)\n",
    "    if status == true\n",
    "        ex0 = exp(0.995 * wp0/100)\n",
    "    else\n",
    "        ex0 = exp(0.995 * wp1/100)\n",
    "    end\n",
    "    ex1 = exp((θ1[1] + θ1[2] * XMat[:,1] + 0.995 * W1vec)/100) # Depend on parameter \\theta_1\n",
    "    return(ex1/(ex0+ex1))\n",
    "end"
   ]
  },
  {
   "cell_type": "markdown",
   "metadata": {},
   "source": [
    "Choice Specific Value Vector"
   ]
  },
  {
   "cell_type": "code",
   "execution_count": 30,
   "metadata": {
    "collapsed": false
   },
   "outputs": [],
   "source": [
    "@everywhere (nobs, nvars) = size(XMat);\n",
    "@everywhere pval = Array(Float64, nobs);\n",
    "@everywhere function pfun!(nlength::Int64, θ1::Vector, θ0::Matrix, H::Matrix, Xmat::Matrix, \n",
    "    s0::Matrix, h::Float64, wvec::Vector, W1coef::Vector)\n",
    "    for i in 1:nlength\n",
    "        pval[i] = pfun(θ1, θ0, H, vec(Xmat[i,:]), s0, h, wvec, W1coef)\n",
    "    end\n",
    "end"
   ]
  },
  {
   "cell_type": "markdown",
   "metadata": {},
   "source": [
    "Define function compute log-likelihood"
   ]
  },
  {
   "cell_type": "code",
   "execution_count": 31,
   "metadata": {
    "collapsed": true
   },
   "outputs": [],
   "source": [
    "# For new theta\n",
    "@everywhere function ll_new()\n",
    "    pfun!(nobs, theta1, thtild, H, XMat, stild, h, wtild, W1coef)\n",
    "    return sum(log(pval).*purch_vec + log(1-pval).*(1-purch_vec))\n",
    "end\n",
    "\n",
    "# For old theta\n",
    "@everywhere function ll_old()\n",
    "    pfun!(nobs, theta0, thtild, H, XMat, stild, h, wtild, W1coef)\n",
    "    return sum(log(pval).*purch_vec + log(1-pval).*(1-purch_vec))\n",
    "end"
   ]
  },
  {
   "cell_type": "code",
   "execution_count": 32,
   "metadata": {
    "collapsed": false
   },
   "outputs": [],
   "source": [
    "# Compute the likelihood in each data. \n",
    "@everywhere function ll_fun!()\n",
    "    snew = pdf(snew_dist, SMat)\n",
    "    wts_old[:] = wts_old - tpdf[1] * spdf[:,1] + tnew * snew;\n",
    "    ww_old[:] = ww_old - tpdf[1] * wtild[1] * spdf[:,1] + wnew * tnew * snew;\n",
    "    \n",
    "    spdf[:,:] = hcat(spdf[:, 2:end], snew);\n",
    "    shift!(tpdf);\n",
    "    push!(tpdf, tnew);\n",
    "    shift!(wtild);\n",
    "    push!(wtild, wnew);\n",
    "\n",
    "    tpdf1 =  pdf(tdist1, thtild);\n",
    "    wts[:] = spdf * tpdf1;\n",
    "    ww[:] = spdf * (tpdf1 .* wtild);\n",
    "\n",
    "    Wa_old = ww_old./wts_old;\n",
    "    Wa_new = ww./wts;\n",
    "    \n",
    "    ex_old0 = exp(0.995 * Wa_old/100)\n",
    "    ex_new0 = exp(0.995 * Wa_new/100)\n",
    "    \n",
    "    ex_new1[:] = exp((theta1[1] + theta1[2] * XMat[:,1] + W1vec)/100)\n",
    "    \n",
    "    pval_0 = ex_old0/(ex_old0+ex_new0)\n",
    "    pval_1 = ex_old1/(ex_old1+ex_new1)\n",
    "\n",
    "    ll_0 = sum(log(pval_0).*purch_vec + log(1-pval_0).*(1-purch_vec))\n",
    "    ll_1 = sum(log(pval_1).*purch_vec + log(1-pval_1).*(1-purch_vec))\n",
    "    \n",
    "    return hcat(ll0, ll1)\n",
    "end"
   ]
  },
  {
   "cell_type": "code",
   "execution_count": 33,
   "metadata": {
    "collapsed": false
   },
   "outputs": [],
   "source": [
    "# Update only if accepted \n",
    "@everywhere function supdate!()\n",
    "    tpdf[:] = tpdf1\n",
    "    ex_old1[:] = ex_new1\n",
    "    wts_old[:] = wts\n",
    "    ww_old[:] = ww\n",
    "end"
   ]
  },
  {
   "cell_type": "markdown",
   "metadata": {},
   "source": [
    "Collect likelihood computed in each process and combine to create overall log-likelihood"
   ]
  },
  {
   "cell_type": "code",
   "execution_count": 36,
   "metadata": {
    "collapsed": false
   },
   "outputs": [
    {
     "name": "stderr",
     "output_type": "stream",
     "text": [
      "WARNING: Method definition ll!(Function, Array{Int64, 1}) in module Main at In[34]:3 overwritten at In[36]:3.\n"
     ]
    },
    {
     "data": {
      "text/plain": [
       "ll! (generic function with 1 method)"
      ]
     },
     "execution_count": 36,
     "metadata": {},
     "output_type": "execute_result"
    }
   ],
   "source": [
    "val = rand(length(np), 2)\n",
    "function ll!(f::Function, np::Array{Int64, 1})\n",
    "    @sync begin\n",
    "        for p in np\n",
    "            @async val[p-1, :] = fetch(@spawnat p eval(:(ll_fun!())))\n",
    "        end\n",
    "    end\n",
    "    return(sum(val,1))\n",
    "end"
   ]
  },
  {
   "cell_type": "markdown",
   "metadata": {},
   "source": [
    "### 6. Bayesian MCMC Setting and Draws"
   ]
  },
  {
   "cell_type": "markdown",
   "metadata": {},
   "source": [
    "Function for Posterior Proportions"
   ]
  },
  {
   "cell_type": "code",
   "execution_count": 37,
   "metadata": {
    "collapsed": false
   },
   "outputs": [
    {
     "data": {
      "text/plain": [
       "postd (generic function with 1 method)"
      ]
     },
     "execution_count": 37,
     "metadata": {},
     "output_type": "execute_result"
    }
   ],
   "source": [
    "function postd(l1::Real, l0::Real, theta1::Vector, theta0::Vector, bhat::Vector, sigb::Matrix)\n",
    "    return exp(l1 + log(pdf(MvNormal(bhat, sigb), theta1)) - l0 - log(pdf(MvNormal(bhat, sigb), theta0)))\n",
    "end"
   ]
  },
  {
   "cell_type": "markdown",
   "metadata": {},
   "source": [
    "MCMC Settings"
   ]
  },
  {
   "cell_type": "code",
   "execution_count": 38,
   "metadata": {
    "collapsed": true
   },
   "outputs": [],
   "source": [
    "burnin = 0;\n",
    "thin   = 1;\n",
    "draws  = 2;\n",
    "totdraws = draws*thin + burnin;\n",
    "npar = 2;"
   ]
  },
  {
   "cell_type": "markdown",
   "metadata": {},
   "source": [
    "Priors"
   ]
  },
  {
   "cell_type": "code",
   "execution_count": 39,
   "metadata": {
    "collapsed": false
   },
   "outputs": [
    {
     "data": {
      "text/plain": [
       "2×2 Array{Float64,2}:\n",
       " 100.0    0.0\n",
       "   0.0  100.0"
      ]
     },
     "execution_count": 39,
     "metadata": {},
     "output_type": "execute_result"
    }
   ],
   "source": [
    "bhat = zeros(Float64, npar)\n",
    "sigb = eye(npar)*100"
   ]
  },
  {
   "cell_type": "markdown",
   "metadata": {},
   "source": [
    "Random Walk Setting"
   ]
  },
  {
   "cell_type": "code",
   "execution_count": 40,
   "metadata": {
    "collapsed": false
   },
   "outputs": [],
   "source": [
    "xm = hcat(ones(Float64, nr), convert(Array{Float64}, hh_panel[:, 5])/100)\n",
    "sigs = round(inv(xm' * xm) * 10, 8)\n",
    "walkdistr = MvNormal(zeros(npar), sigs);"
   ]
  },
  {
   "cell_type": "markdown",
   "metadata": {},
   "source": [
    "Support of the state variables."
   ]
  },
  {
   "cell_type": "code",
   "execution_count": 41,
   "metadata": {
    "collapsed": false
   },
   "outputs": [
    {
     "data": {
      "text/plain": [
       "Distributions.Uniform{Float64}(a=0.0, b=8.74372106722585)"
      ]
     },
     "execution_count": 41,
     "metadata": {},
     "output_type": "execute_result"
    }
   ],
   "source": [
    "pd = Uniform(minimum(XMat[:,1]), maximum(XMat[:,1]))\n",
    "pbard = Uniform(minimum(XMat[:,2]), maximum(XMat[:,2]))\n",
    "mud = Uniform(minimum(XMat[:,3]), maximum(XMat[:,3]))"
   ]
  },
  {
   "cell_type": "markdown",
   "metadata": {},
   "source": [
    "Approximation Bandwidth"
   ]
  },
  {
   "cell_type": "code",
   "execution_count": 42,
   "metadata": {
    "collapsed": false
   },
   "outputs": [
    {
     "data": {
      "text/plain": [
       "2×2 Array{Float64,2}:\n",
       "  0.00289665  -0.00208656\n",
       " -0.00208656   0.00152406"
      ]
     },
     "execution_count": 42,
     "metadata": {},
     "output_type": "execute_result"
    }
   ],
   "source": [
    "h = 1.\n",
    "H = 9*sigs"
   ]
  },
  {
   "cell_type": "markdown",
   "metadata": {},
   "source": [
    "Initialize storage for proposal parameters and corresponding W"
   ]
  },
  {
   "cell_type": "code",
   "execution_count": 43,
   "metadata": {
    "collapsed": false
   },
   "outputs": [],
   "source": [
    "@everywhere N_0 = 1000\n",
    "thtild = [3.; -5.] .+ 10*rand(walkdistr, N_0);\n",
    "stild = zeros(Float64, 3, N_0);\n",
    "wtild = zeros(Float64, N_0);\n",
    "for k in 1:300\n",
    "    for i in 1:N_0\n",
    "        thtild[:,i] = [3., -5.] + 10*rand(walkdistr)\n",
    "        stild[:,i] = [rand(pd), rand(pbard), rand(mud)]\n",
    "        wtild[i] = WApprox(thtild[:,i], thtild, H, stild[:,i], stild, h, wtild)\n",
    "        wtild[i] = W0V(thtild[:,i], stild[:,i], wtild[i])\n",
    "    end\n",
    "    #println(\"Value is supposed to be $(wtild[i])\")\n",
    "end"
   ]
  },
  {
   "cell_type": "markdown",
   "metadata": {},
   "source": [
    "Fetch data to remote workers"
   ]
  },
  {
   "cell_type": "code",
   "execution_count": 44,
   "metadata": {
    "collapsed": false
   },
   "outputs": [],
   "source": [
    "broad_mpi(:(thtild = $thtild));\n",
    "broad_mpi(:(stild = $stild));\n",
    "broad_mpi(:(wtild = $wtild));"
   ]
  },
  {
   "cell_type": "markdown",
   "metadata": {},
   "source": [
    "Approximation Bandwidth"
   ]
  },
  {
   "cell_type": "code",
   "execution_count": 45,
   "metadata": {
    "collapsed": false
   },
   "outputs": [],
   "source": [
    "@everywhere h = 0.25;\n",
    "broad_mpi(:(H = $sigs));"
   ]
  },
  {
   "cell_type": "markdown",
   "metadata": {},
   "source": [
    "Starting Values of Parameters"
   ]
  },
  {
   "cell_type": "code",
   "execution_count": 46,
   "metadata": {
    "collapsed": true
   },
   "outputs": [],
   "source": [
    "@everywhere theta0 = [3.0, -5.]"
   ]
  },
  {
   "cell_type": "markdown",
   "metadata": {},
   "source": [
    "Compute the pdfs of thetas"
   ]
  },
  {
   "cell_type": "code",
   "execution_count": 47,
   "metadata": {
    "collapsed": false
   },
   "outputs": [],
   "source": [
    "tdist0 = MvNormal(theta0, H);\n",
    "tpdf =  pdf(tdist0, thtild);\n",
    "broad_mpi(:(tpdf=$tpdf))"
   ]
  },
  {
   "cell_type": "code",
   "execution_count": 48,
   "metadata": {
    "collapsed": false
   },
   "outputs": [],
   "source": [
    "sH = diagm([3.683^2, h, 0.6308^2]);\n",
    "sdist = Array(Distributions.MvNormal{Float64,PDMats.PDMat{Float64,Array{Float64,2}},Array{Float64,1}},0)\n",
    "for i in 1:N_0\n",
    "    push!(sdist, MvNormal(stild[:,i], sH))\n",
    "end\n",
    "@sync broad_mpi(:(sdist = $sdist))"
   ]
  },
  {
   "cell_type": "markdown",
   "metadata": {},
   "source": [
    "Compute the pdfs of state for each household"
   ]
  },
  {
   "cell_type": "code",
   "execution_count": 49,
   "metadata": {
    "collapsed": false
   },
   "outputs": [],
   "source": [
    "@sync broad_mpi(:(spdf = spzeros(nobs, N_0)))\n",
    "@everywhere function sden!()\n",
    "    for i in 1:N_0\n",
    "        spdf[:, N_0] = pdf(sdist[i], SMat)\n",
    "    end\n",
    "end"
   ]
  },
  {
   "cell_type": "code",
   "execution_count": 50,
   "metadata": {
    "collapsed": false
   },
   "outputs": [],
   "source": [
    "@sync broad_mpi(:(sden!()))"
   ]
  },
  {
   "cell_type": "code",
   "execution_count": 51,
   "metadata": {
    "collapsed": false
   },
   "outputs": [
    {
     "data": {
      "text/plain": [
       "Sparse vector of length 1121215 with 0 Float64 nonzero entries:\n"
      ]
     },
     "execution_count": 51,
     "metadata": {},
     "output_type": "execute_result"
    }
   ],
   "source": [
    "fetch(@spawnat 2 eval(:(spdf[:,100])))"
   ]
  },
  {
   "cell_type": "markdown",
   "metadata": {},
   "source": [
    "Initialize storage of MCMC draws"
   ]
  },
  {
   "cell_type": "code",
   "execution_count": 52,
   "metadata": {
    "collapsed": true
   },
   "outputs": [],
   "source": [
    "thatd = zeros(Float64, draws, npar);"
   ]
  },
  {
   "cell_type": "markdown",
   "metadata": {},
   "source": [
    "MCMC Draw Implementation"
   ]
  },
  {
   "cell_type": "code",
   "execution_count": 53,
   "metadata": {
    "collapsed": false
   },
   "outputs": [
    {
     "ename": "LoadError",
     "evalue": "On worker 2:\nUndefVarError: wts_old not defined\n in ll_fun! at ./In[32]:4\n in eval at ./boot.jl:234\n in #128 at ./multi.jl:1909\n in #622 at ./multi.jl:1417\n in run_work_thunk at ./multi.jl:1001\n in run_work_thunk at ./multi.jl:1010 [inlined]\n in #597 at ./event.jl:68\n in #remotecall_fetch#606(::Array{Any,1}, ::Function, ::Function, ::Base.Worker, ::Base.RRID, ::Vararg{Any,N}) at ./multi.jl:1070\n in remotecall_fetch(::Function, ::Base.Worker, ::Base.RRID, ::Vararg{Any,N}) at ./multi.jl:1062\n in #remotecall_fetch#609(::Array{Any,1}, ::Function, ::Function, ::Int64, ::Base.RRID, ::Vararg{Any,N}) at ./multi.jl:1080\n in remotecall_fetch(::Function, ::Int64, ::Base.RRID, ::Vararg{Any,N}) at ./multi.jl:1080\n in call_on_owner(::Function, ::Future, ::Int64, ::Vararg{Int64,N}) at ./multi.jl:1130\n in fetch(::Future) at ./multi.jl:1156\n in (::##126#130{Array{Float64,2},Core.#eval})() at ./task.jl:360\n\n...and 1 other exceptions.\n",
     "output_type": "error",
     "traceback": [
      "On worker 2:\nUndefVarError: wts_old not defined\n in ll_fun! at ./In[32]:4\n in eval at ./boot.jl:234\n in #128 at ./multi.jl:1909\n in #622 at ./multi.jl:1417\n in run_work_thunk at ./multi.jl:1001\n in run_work_thunk at ./multi.jl:1010 [inlined]\n in #597 at ./event.jl:68\n in #remotecall_fetch#606(::Array{Any,1}, ::Function, ::Function, ::Base.Worker, ::Base.RRID, ::Vararg{Any,N}) at ./multi.jl:1070\n in remotecall_fetch(::Function, ::Base.Worker, ::Base.RRID, ::Vararg{Any,N}) at ./multi.jl:1062\n in #remotecall_fetch#609(::Array{Any,1}, ::Function, ::Function, ::Int64, ::Base.RRID, ::Vararg{Any,N}) at ./multi.jl:1080\n in remotecall_fetch(::Function, ::Int64, ::Base.RRID, ::Vararg{Any,N}) at ./multi.jl:1080\n in call_on_owner(::Function, ::Future, ::Int64, ::Vararg{Int64,N}) at ./multi.jl:1130\n in fetch(::Future) at ./multi.jl:1156\n in (::##126#130{Array{Float64,2},Core.#eval})() at ./task.jl:360\n\n...and 1 other exceptions.\n",
      "",
      " in sync_end() at ./task.jl:311",
      " in macro expansion at ./task.jl:327 [inlined]",
      " in ll!(::Function, ::Array{Int64,1}) at ./In[36]:3",
      " in macro expansion; at ./In[53]:34 [inlined]",
      " in anonymous at ./<missing>:?"
     ]
    }
   ],
   "source": [
    "start_time = time_ns();\n",
    "for d=1:totdraws\n",
    "    # Proposed theta\n",
    "    theta1 = theta0 + rand(walkdistr)\n",
    "    broad_mpi(:(theta1 = $theta1))\n",
    "\n",
    "    # Draw a state proposal\n",
    "    s_i = [rand(pd), rand(pbard), rand(mud)]\n",
    "    broad_mpi(:(s_i = $s_i))\n",
    "    snew_dist = MvNormal(s_i, sH)\n",
    "    broad_mpi(:(snew_dist = $snew_dist))\n",
    "\n",
    "    # Push s_i to the new values\n",
    "    push!(sdist, MvNormal(s_i, sH))\n",
    "    shift!(sdist)\n",
    "\n",
    "    # Approximate the Value function\n",
    "    w_i = WApprox(theta1, thtild, H, s_i, stild, h, wtild)\n",
    "\n",
    "    # Bellman Iteration Once\n",
    "    wnew = W0V(theta1, s_i, w_i)\n",
    "    broad_mpi(:(wnew = $wnew))\n",
    "    \n",
    "    # Compute the pdfs\n",
    "    tdist1 = MvNormal(theta1, H);\n",
    "    broad_mpi(:(tdist1=$tdist1))\n",
    "    \n",
    "    # tnew pdf value\n",
    "    tnew = pdf(tdist1, theta0);\n",
    "    broad_mpi(:(tnew=$tnew))\n",
    "\n",
    "    # Compute likelihood for the new\n",
    "    llv = ll!(ll_new, np);\n",
    "    println(llv)\n",
    "\n",
    "    alpha = min(1, postd(llv[:,2], llv[:,1], theta1, theta0, bhat, sigb))\n",
    "    if rand() <= alpha\n",
    "        @sync broad_mpi(:(theta0 = $theta1))\n",
    "        @sync broad_mpi(:(supdate!()))\n",
    "    end\n",
    "\n",
    "    # Store the posterior draws of mean betas and sigmas\n",
    "    if ((d > burnin) && (d % thin == 0))\n",
    "        indx = ceil(Int64, (d - burnin)/thin)\n",
    "        thatd[indx, :] = theta0;\n",
    "    end\n",
    "\n",
    "    # Indicate the progress\n",
    "    elapsed_t = time_ns() - start_time;\n",
    "    println(theta0)\n",
    "    @printf(\"%10.6f seconds has passed\\n\", elapsed_t/1e9)\n",
    "    println(\"Finished drawing $(d) out of $(totdraws)\")\n",
    "end"
   ]
  },
  {
   "cell_type": "markdown",
   "metadata": {},
   "source": [
    "Save MCMC Draws"
   ]
  },
  {
   "cell_type": "code",
   "execution_count": 54,
   "metadata": {
    "collapsed": true
   },
   "outputs": [],
   "source": [
    "writedlm(\"Data/Bayes-MCMC/Adoption-Coef.csv\", thatd)"
   ]
  }
 ],
 "metadata": {
  "anaconda-cloud": {},
  "kernelspec": {
   "display_name": "Julia 0.5.0",
   "language": "julia",
   "name": "julia-0.5"
  },
  "language_info": {
   "file_extension": ".jl",
   "mimetype": "application/julia",
   "name": "julia",
   "version": "0.5.0"
  }
 },
 "nbformat": 4,
 "nbformat_minor": 1
}
