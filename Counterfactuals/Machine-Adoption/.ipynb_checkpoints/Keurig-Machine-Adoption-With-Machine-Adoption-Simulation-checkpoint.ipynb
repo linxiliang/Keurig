{
 "cells": [
  {
   "cell_type": "markdown",
   "metadata": {},
   "source": [
    "# Keurig Machine Adoption Using IJC Algorithm"
   ]
  },
  {
   "cell_type": "markdown",
   "metadata": {},
   "source": [
    "### Settings"
   ]
  },
  {
   "cell_type": "markdown",
   "metadata": {},
   "source": [
    "##### Set Local Directory"
   ]
  },
  {
   "cell_type": "code",
   "execution_count": 1,
   "metadata": {
    "collapsed": false
   },
   "outputs": [],
   "source": [
    "addprocs(6)\n",
    "@everywhere cd(\"$(homedir())/Keurig\");"
   ]
  },
  {
   "cell_type": "markdown",
   "metadata": {},
   "source": [
    "##### Load Packages"
   ]
  },
  {
   "cell_type": "code",
   "execution_count": 2,
   "metadata": {
    "collapsed": false
   },
   "outputs": [
    {
     "name": "stderr",
     "output_type": "stream",
     "text": [
      "WARNING: replacing module Distributions\n",
      "WARNING: replacing module Distributions\n",
      "WARNING: replacing module Distributions\n",
      "WARNING: replacing module Distributions\n",
      "WARNING: replacing module Distributions\n",
      "WARNING: replacing module Distributions\n",
      "WARNING: replacing module Optim\n",
      "WARNING: replacing module Optim\n",
      "WARNING: replacing module Optim\n",
      "WARNING: replacing module Optim\n",
      "WARNING: replacing module Optim\n",
      "WARNING: replacing module Optim\n",
      "WARNING: replacing module FastGaussQuadrature\n",
      "WARNING: replacing module FastGaussQuadrature\n",
      "WARNING: replacing module FastGaussQuadrature\n",
      "WARNING: replacing module FastGaussQuadrature\n",
      "WARNING: replacing module FastGaussQuadrature\n",
      "WARNING: replacing module FastGaussQuadrature\n",
      "WARNING: replacing module Gadfly\n",
      "WARNING: replacing module Gadfly\n",
      "WARNING: replacing module Gadfly\n",
      "WARNING: replacing module Gadfly\n",
      "WARNING: New definition \n",
      "    chain(Gadfly.Data...) at /home/xlin0/.julia/v0.4/Gadfly/src/data.jl:57\n",
      "is ambiguous with: \n",
      "    chain(Gadfly.Data...) at /home/xlin0/.julia/v0.4/Gadfly/src/data.jl:57.\n",
      "To fix, define \n",
      "    chain()\n",
      "before the new definition.\n",
      "WARNING: replacing module Gadfly\n",
      "WARNING: New definition \n",
      "    chain(Gadfly.Data...) at /home/xlin0/.julia/v0.4/Gadfly/src/data.jl:57\n",
      "is ambiguous with: \n",
      "    chain(Gadfly.Data...) at /home/xlin0/.julia/v0.4/Gadfly/src/data.jl:57.\n",
      "To fix, define \n",
      "    chain()\n",
      "before the new definition.\n",
      "WARNING: replacing module Gadfly\n",
      "WARNING: New definition \n",
      "    chain(Gadfly.Data...) at /home/xlin0/.julia/v0.4/Gadfly/src/data.jl:57\n",
      "is ambiguous with: \n",
      "    chain(Gadfly.Data...) at /home/xlin0/.julia/v0.4/Gadfly/src/data.jl:57.\n",
      "To fix, define \n",
      "    chain()\n",
      "before the new definition.\n",
      "WARNING: New definition \n",
      "    chain(Gadfly.Data...) at /home/xlin0/.julia/v0.4/Gadfly/src/data.jl:57\n",
      "is ambiguous with: \n",
      "    chain(Gadfly.Data...) at /home/xlin0/.julia/v0.4/Gadfly/src/data.jl:57.\n",
      "To fix, define \n",
      "    chain()\n",
      "before the new definition.\n",
      "WARNING: New definition \n",
      "    chain(Gadfly.Data...) at /home/xlin0/.julia/v0.4/Gadfly/src/data.jl:57\n",
      "is ambiguous with: \n",
      "    chain(Gadfly.Data...) at /home/xlin0/.julia/v0.4/Gadfly/src/data.jl:57.\n",
      "To fix, define \n",
      "    chain()\n",
      "before the new definition.\n",
      "WARNING: New definition \n",
      "    chain(Gadfly.Data...) at /home/xlin0/.julia/v0.4/Gadfly/src/data.jl:57\n",
      "is ambiguous with: \n",
      "    chain(Gadfly.Data...) at /home/xlin0/.julia/v0.4/Gadfly/src/data.jl:57.\n",
      "To fix, define \n",
      "    chain()\n",
      "before the new definition.\n"
     ]
    }
   ],
   "source": [
    "@everywhere using Distributions;\n",
    "@everywhere using Optim;\n",
    "@everywhere using FastGaussQuadrature;\n",
    "@everywhere using Gadfly;\n",
    "@everywhere using DataFrames;"
   ]
  },
  {
   "cell_type": "code",
   "execution_count": 3,
   "metadata": {
    "collapsed": false
   },
   "outputs": [
    {
     "data": {
      "text/plain": [
       "7"
      ]
     },
     "execution_count": 3,
     "metadata": {},
     "output_type": "execute_result"
    }
   ],
   "source": [
    "nprocs()"
   ]
  },
  {
   "cell_type": "markdown",
   "metadata": {},
   "source": [
    "##### Source the Bellman Function"
   ]
  },
  {
   "cell_type": "code",
   "execution_count": 4,
   "metadata": {
    "collapsed": true
   },
   "outputs": [],
   "source": [
    "@everywhere include(\"Scripts/Two-Step-Demand/Machine-Adoption/BellmanFun.jl\");"
   ]
  },
  {
   "cell_type": "markdown",
   "metadata": {},
   "source": [
    "### Solve the Dynamic Programming Problem Once"
   ]
  },
  {
   "cell_type": "markdown",
   "metadata": {},
   "source": [
    "##### Solve for the Value of holding a Keurig Machine versus not holding"
   ]
  },
  {
   "cell_type": "markdown",
   "metadata": {},
   "source": [
    "As I assume the consumer would have the machine forever after purchase, I then first need to solve the Bellman equation for holding the machine. $W(1,\\nu )=\\nu + \\int W(1,\\nu') dF(\\nu')$, where $\\nu' \\sim N(\\mu(\\nu), \\sigma^2(\\nu))$.\n",
    "\n",
    "Here we assume $\\nu'= \\alpha_0 + \\alpha_1 \\nu + \\epsilon$ where $\\epsilon \\sim N(0, 1)$\n",
    "\n",
    "Set $\\gamma$"
   ]
  },
  {
   "cell_type": "code",
   "execution_count": 5,
   "metadata": {
    "collapsed": false
   },
   "outputs": [],
   "source": [
    "@everywhere β  = 0.995\n",
    "@everywhere α0 = 0.0958842;\n",
    "@everywhere α1 = 0.9501078;\n",
    "@everywhere σ0 = 0.7828;"
   ]
  },
  {
   "cell_type": "markdown",
   "metadata": {},
   "source": [
    "Grid of $\\nu$"
   ]
  },
  {
   "cell_type": "code",
   "execution_count": 6,
   "metadata": {
    "collapsed": false
   },
   "outputs": [],
   "source": [
    "@everywhere nodes = 20; # Degree of Chebyshev Zeros (nodes)\n",
    "@everywhere order = 5; # Degree of Chebyshev Polynomials\n",
    "@everywhere (a, b) = (0., 60.); # a need to be greater/equal to 1 for the function to be well behaved.\n",
    "@everywhere (cnode, cweight)=gausschebyshev(nodes); # Interpolation Nodes\n",
    "@everywhere tcnode = (cnode+1) * (b-a)/2 + a; # Transformed nodes"
   ]
  },
  {
   "cell_type": "markdown",
   "metadata": {},
   "source": [
    "Initialize $W(\\nu)$"
   ]
  },
  {
   "cell_type": "code",
   "execution_count": null,
   "metadata": {
    "collapsed": false
   },
   "outputs": [],
   "source": [
    "@everywhere W1 = SharedArray(Float64, nodes);"
   ]
  },
  {
   "cell_type": "markdown",
   "metadata": {},
   "source": [
    "Approximate the Value Function using Chebyshev Interpolation (Regression) based on Judd (1998, P223)\n",
    "\n",
    "Step 1 Compute the $m \\ge n+1$ Chebyshev interpolation nodes on [-1, 1] (Chebyshev Zeros): \n",
    "$z_k = -\\cos(\\frac{2k-1}{2m}\\pi)$, $k=1,\\dots, m$.\n",
    "\n",
    "Step 2. Adjust the nodes to the [a,b] interval (desired interval of interpolation).\n",
    "$x_k = (z_k+1)(\\frac{b-a}{2})+a$, $k=1,\\dots, m$.\n",
    "\n",
    "Step 3 Evaluate $f$ at the approximation nodes:\n",
    "$y_k = f(x_k)$, $k=1,\\dots, m$. \n",
    "\n",
    "Step 4 Compute Chebyshev coefficients, a_i, i = 0, n:\n",
    "$a_i = \\frac{\\sum_{k=1}^m y_k T_i(z_k)}{\\sum_{k=1}^m T_i(z_k)^2}$, where $T_i(x)=\\cos (i \\cos ^{-1} x)$ is the Chebyshev base function. This yield approximation of function $f(x)$, $x \\in [a, b]$:\n",
    "$\\hat{f}(x)=\\sum_{i=0}^{n} a_i T_i(2\\frac{x-a}{b-a} - 1)$. "
   ]
  },
  {
   "cell_type": "markdown",
   "metadata": {},
   "source": [
    "Define the Chebyshev Approximation Function"
   ]
  },
  {
   "cell_type": "code",
   "execution_count": null,
   "metadata": {
    "collapsed": false
   },
   "outputs": [],
   "source": [
    "@everywhere T(i, x) = cos((i-1) .* acos(x));\n",
    "@everywhere Tmat = Float64[T(i,j) for i = 1:(order+1), j in cnode]; # Chebyshev Polynomial Matrix "
   ]
  },
  {
   "cell_type": "code",
   "execution_count": null,
   "metadata": {
    "collapsed": false
   },
   "outputs": [],
   "source": [
    "# Version 1\n",
    "@everywhere function capprox(w, nodes::Int64, order::Int64, a::Real, b::Real, x::Real)\n",
    "    length(w) == nodes ? length(w) : error(\"function values not the same length as interpolation nodes\")\n",
    "    (cnode, cweight)=gausschebyshev(nodes) # Step 1 - Chebyshev zeros\n",
    "    tcnode = (cnode+1) * (b-a)/2 + a; # Step 2 - adjust nodes\n",
    "    Wmat = repmat(w, 1, (order+1)); # Step 3 - function value at transformed node\n",
    "    T(i, x) = cos((i-1) .* acos(x)) \n",
    "    Tmat = Float64[T(i,j) for i = 1:(order+1), j in cnode];# Chebyshev Polynomial Matrix \n",
    "    ccoef = diag(Tmat * Wmat) ./ sum(Tmat.^2,2)[:,1]; #Step 4 Compute coefficients\n",
    "    if (a<=x<=b)\n",
    "        return sum(Float64[T(i, 2 * (x-a)/(b-a) - 1) * ccoef[i] for i = 1:(order+1)]);\n",
    "    elseif (x<a)\n",
    "        abase = capprox(w, nodes, order, a, b, a)\n",
    "        aslope = (capprox(w, nodes, order, a, b, a+0.0001) - abase)/0.0001\n",
    "        return abase + aslope * (x-a) # Linear Extrapolation\n",
    "    else\n",
    "        bbase = capprox(w, nodes, order, a, b, b)\n",
    "        bslope = (bbase - capprox(w, nodes, order, a, b, b - 0.0001))/0.0001\n",
    "        return bbase + bslope * (x-b) # Linear Extrapolation\n",
    "    end\n",
    "end\n",
    "\n",
    "# Version 2\n",
    "@everywhere function capprox(w, x::Real)\n",
    "    length(w) == nodes ? length(w) : error(\"function values not the same length as interpolation nodes\")\n",
    "    Wmat = repmat(w, 1, (order+1)); # Step 3 - function value at transformed node\n",
    "    ccoef = diag(Tmat * Wmat) ./ sum(Tmat.^2,2)[:,1]; #Step 4 Compute coefficients\n",
    "    if (a<=x<=b)\n",
    "        return sum(Float64[T(i, 2 * (x-a)/(b-a) - 1) * ccoef[i] for i = 1:(order+1)]);\n",
    "    elseif (x<a)\n",
    "        abase = capprox(w, a)\n",
    "        aslope = (capprox(w, a+0.0001) - abase)/0.0001\n",
    "        return abase + aslope * (x-a) # Linear Extrapolation\n",
    "    else\n",
    "        bbase = capprox(w, b)\n",
    "        bslope = (bbase - capprox(w, b - 0.0001))/0.0001\n",
    "        return bbase + bslope * (x-b) # Linear Extrapolation\n",
    "    end\n",
    "end\n",
    "\n",
    "# Version 3\n",
    "@everywhere function coefun(ccoef, x::Real)\n",
    "    if (a<=x<=b)\n",
    "        return sum(Float64[T(i, 2 * (x-a)/(b-a) - 1) * ccoef[i] for i = 1:(order+1)]);\n",
    "    elseif (x<a)\n",
    "        abase = coefun(ccoef, a)\n",
    "        aslope = (coefun(ccoef, a+0.0001) - abase)/0.0001\n",
    "        return abase + aslope * (x-a) # Linear Extrapolation\n",
    "    else\n",
    "        bbase = ccoef(ccoef, b)\n",
    "        bslope = (bbase - coefun(ccoef, b - 0.0001))/0.0001\n",
    "        return bbase + bslope * (x-b) # Linear Extrapolation\n",
    "    end\n",
    "end\n",
    "\n",
    "# Get Coefficient function\n",
    "@everywhere function getcoef(w)\n",
    "    Wmat = repmat(w, 1, (order+1)); # Step 3 - function value at transformed node\n",
    "    ccoef = diag(Tmat * Wmat) ./ sum(Tmat.^2,2)[:,1]; #Step 4 Compute coefficients\n",
    "    return ccoef\n",
    "end"
   ]
  },
  {
   "cell_type": "markdown",
   "metadata": {},
   "source": [
    "Gauss Hermite works well with gaussian density integration (Expected Value)\n",
    "\n",
    "$\\mathbb{E}[f(Y)]=(2\\pi\\sigma^2)^{-1/2}\\int _{-\\infty} ^{\\infty} f(y) e^{-(y-\\mu)^2/(2\\sigma^2)}dy = \\pi^{-1/2}\\sum _{i=1} ^n \\omega_i f(\\sqrt{2}\\sigma x_i +\\mu)$\n",
    "\n",
    "n=15;\n",
    "(x, wx)=gausshermite(n);\n",
    "f(x) = (x.^2);\n",
    "sqrt(1/pi) * sum(f(sqrt(2) * 2 *x) .* wx)"
   ]
  },
  {
   "cell_type": "code",
   "execution_count": null,
   "metadata": {
    "collapsed": false
   },
   "outputs": [],
   "source": [
    "#Gauss Hermite Integration Function\n",
    "# Version 1\n",
    "@everywhere function hermiteint(f::Function, nodes::Int64, μ::Real, σ::Real)\n",
    "    (x, wx)=gausshermite(nodes);\n",
    "    return sqrt(1/pi) * sum(map(f, sqrt(2)*σ*x + μ) .* wx);\n",
    "end\n",
    "\n",
    "# Version 2\n",
    "@everywhere (hermitenodes, hermitewts)=gausshermite(25);\n",
    "@everywhere function hermiteint(f::Function, μ::Real, σ::Real)\n",
    "    return sqrt(1/pi) * sum(map(f, sqrt(2)*σ*hermitenodes + μ) .* hermitewts);\n",
    "end"
   ]
  },
  {
   "cell_type": "markdown",
   "metadata": {},
   "source": [
    "Bellman - Value Function Iteration"
   ]
  },
  {
   "cell_type": "code",
   "execution_count": null,
   "metadata": {
    "collapsed": false
   },
   "outputs": [],
   "source": [
    "@everywhere function W1V(W)\n",
    "    wappx(x::Real) = capprox(W, x);\n",
    "    function wfun(ν::Real)\n",
    "        return ν + β * hermiteint(wappx, α0+α1*ν, σ0)\n",
    "    end\n",
    "    return map(wfun, tcnode)\n",
    "end"
   ]
  },
  {
   "cell_type": "code",
   "execution_count": null,
   "metadata": {
    "collapsed": false
   },
   "outputs": [],
   "source": [
    "# function W1V(W::Array{Float64, 1})\n",
    "@everywhere tol = 1e-8\n",
    "@everywhere err = 1; \n",
    "@everywhere nx = 0;\n",
    "while (err > tol)\n",
    "    nx = nx+1;\n",
    "    W1n = W1V(W1)\n",
    "    err = sum(abs(W1n-W1))\n",
    "    # println(\"Error is $(err), and interation is $(nx)\")\n",
    "    W1 = W1n\n",
    "end"
   ]
  },
  {
   "cell_type": "code",
   "execution_count": null,
   "metadata": {
    "collapsed": false
   },
   "outputs": [],
   "source": [
    "@everywhere w1appx(x) = capprox(W1, nodes, order, a, b, x)\n",
    "plot(x = collect(0:0.25:60), y = map(w1appx, collect(0:0.25:60)), Geom.point, Geom.line)"
   ]
  },
  {
   "cell_type": "markdown",
   "metadata": {},
   "source": [
    "###### Solve for the Value of Adopting Keurig Machine Given Prices"
   ]
  },
  {
   "cell_type": "code",
   "execution_count": null,
   "metadata": {
    "collapsed": false
   },
   "outputs": [],
   "source": [
    "#Transform W1 to a convenient dimension for computational purpose\n",
    "W1mat = repmat(vec(repmat(W1', 5))', 4^5);"
   ]
  },
  {
   "cell_type": "markdown",
   "metadata": {},
   "source": [
    "Product series -- two dimensions: (1) Availability (2) Prices. Assume consumers are strategic about prices, but not availability of series. "
   ]
  },
  {
   "cell_type": "code",
   "execution_count": null,
   "metadata": {
    "collapsed": false
   },
   "outputs": [],
   "source": [
    "Prices = [79 69 59 49\n",
    "          99 89 79 74\n",
    "          129 119 109 99\n",
    "          149 139 129 124\n",
    "          189 179 169 159];"
   ]
  },
  {
   "cell_type": "code",
   "execution_count": null,
   "metadata": {
    "collapsed": true
   },
   "outputs": [],
   "source": [
    "PriceProb  = [0.95 0.03 0.02 0.00\n",
    "              0.94 0.04 0.01 0.01\n",
    "              0.90 0.06 0.02 0.02\n",
    "              0.90 0.06 0.02 0.02\n",
    "              0.94 0.04 0.01 0.01];"
   ]
  },
  {
   "cell_type": "code",
   "execution_count": null,
   "metadata": {
    "collapsed": false
   },
   "outputs": [],
   "source": [
    "pricevec = zeros(Float64, 4^5, 5);\n",
    "pricep  = zeros(Float64, 4^5);"
   ]
  },
  {
   "cell_type": "code",
   "execution_count": null,
   "metadata": {
    "collapsed": false
   },
   "outputs": [],
   "source": [
    "i = 0\n",
    "for p1 in Prices[1,:], p2 in Prices[2,:], p3 in Prices[3, :], p4 in Prices[4, :], p5 in Prices[5, :]\n",
    "    i += 1;\n",
    "    pricevec[i,:] = [p1, p2, p3, p4, p5]\n",
    "    pricep[i,:] = PriceProb[1, p1.==Prices[1,:]] .* \n",
    "                  PriceProb[2, p2.==Prices[2,:]] .* \n",
    "                  PriceProb[3, p3.==Prices[3,:]] .* \n",
    "                  PriceProb[4, p4.==Prices[4,:]] .*\n",
    "                  PriceProb[5, p5.==Prices[5,:]]\n",
    "end\n",
    "pricep = pricep/sum(pricep);\n",
    "pricemat = repmat(pricevec, 1, nodes);"
   ]
  },
  {
   "cell_type": "code",
   "execution_count": null,
   "metadata": {
    "collapsed": false
   },
   "outputs": [],
   "source": [
    "ϑ = [70, 90, 120, 150, 170]; # Hardware specific Value\n",
    "ϑmat = repmat(ϑ', 4^5, nodes);"
   ]
  },
  {
   "cell_type": "code",
   "execution_count": null,
   "metadata": {
    "collapsed": false
   },
   "outputs": [],
   "source": [
    "β1 = -5; # Price coefficient for hardware"
   ]
  },
  {
   "cell_type": "markdown",
   "metadata": {},
   "source": [
    "The value of holding a machine - machine versus outside option"
   ]
  },
  {
   "cell_type": "code",
   "execution_count": null,
   "metadata": {
    "collapsed": true
   },
   "outputs": [],
   "source": [
    "W0 = zeros(Float64, 4^5, nodes);"
   ]
  },
  {
   "cell_type": "markdown",
   "metadata": {},
   "source": [
    "Value of the Market"
   ]
  },
  {
   "cell_type": "code",
   "execution_count": null,
   "metadata": {
    "collapsed": false
   },
   "outputs": [],
   "source": [
    "util = ϑmat  + β1*pricemat + W1mat;\n",
    "scaleconstant = 50; # Must be a fixed number -- otherwise, no identification of price coefficient\n",
    "util = (util)/scaleconstant\n",
    "marketv = reshape(sum(reshape(exp(util)', 5, nodes, 4^5), 1), 20, 1024)';"
   ]
  },
  {
   "cell_type": "code",
   "execution_count": null,
   "metadata": {
    "collapsed": false
   },
   "outputs": [],
   "source": [
    "function W0V(W0::Array{Float64, 2})\n",
    "    EW0V = vec(sum(broadcast(*, W0, pricep), 1));\n",
    "    EW0Fun(x::Real) = capprox(EW0V, x::Real)\n",
    "    EW0 = Float64[hermiteint(EW0Fun, α0+α1*ν, σ0) for ν in tcnode]\n",
    "    EW0 = repmat(EW0', 4^5)\n",
    "    return log(exp(β * EW0) + marketv);\n",
    "end"
   ]
  },
  {
   "cell_type": "code",
   "execution_count": null,
   "metadata": {
    "collapsed": false
   },
   "outputs": [],
   "source": [
    "# function W1V(W::Array{Float64, 1})\n",
    "tol = 1e-8\n",
    "err = 1; \n",
    "nx = 0;\n",
    "while (err > tol)\n",
    "    nx = nx+1;\n",
    "    W0n = W0V(W0)\n",
    "    err = sum(abs(W0n-W0))\n",
    "    #println(\"Error is $(err), and interation is $(nx)\")\n",
    "    W0 = W0n\n",
    "end"
   ]
  },
  {
   "cell_type": "code",
   "execution_count": null,
   "metadata": {
    "collapsed": false
   },
   "outputs": [],
   "source": [
    "# Compute the expected value function\n",
    "EW0V = vec(sum(broadcast(*, W0, pricep), 1));\n",
    "EW0Fun(x::Real) = capprox(EW0V, x::Real)"
   ]
  },
  {
   "cell_type": "code",
   "execution_count": null,
   "metadata": {
    "collapsed": false
   },
   "outputs": [],
   "source": [
    "# Plot the function\n",
    "plot(x = collect(1:0.25:60), y = map(EW0Fun, collect(1:0.25:60)), Geom.point, Geom.line)"
   ]
  },
  {
   "cell_type": "code",
   "execution_count": null,
   "metadata": {
    "collapsed": false
   },
   "outputs": [],
   "source": [
    "function ccp(price::Vector, ν::Real)\n",
    "    βEW0 = exp(β * hermiteint(EW0Fun, ν^(γ)*(b^(1-γ)), 1/(1+abs(ν))))\n",
    "    util = exp((ϑ + β1*price + w1appx(ν))/scaleconstant)\n",
    "    val = [βEW0; util]\n",
    "    return vec(val ./ sum(val))\n",
    "end\n",
    "ccp([79, 99, 69, 149, 109], 10)"
   ]
  },
  {
   "cell_type": "code",
   "execution_count": null,
   "metadata": {
    "collapsed": false
   },
   "outputs": [],
   "source": [
    "ones(Float64, 10, 10, 10) .* reshape(repmat([0.9], 100, 10), 10, 10, 10);\n",
    "log(exp(0) + exp(0) + exp(0) + exp(0))"
   ]
  },
  {
   "cell_type": "markdown",
   "metadata": {},
   "source": [
    "### Estimate the Dynamic Program using IJC Algorithm"
   ]
  },
  {
   "cell_type": "markdown",
   "metadata": {},
   "source": [
    "### Load Relevant Data"
   ]
  },
  {
   "cell_type": "markdown",
   "metadata": {},
   "source": [
    "Household Machine Adoption Panel"
   ]
  },
  {
   "cell_type": "code",
   "execution_count": null,
   "metadata": {
    "collapsed": false
   },
   "outputs": [],
   "source": [
    "@everywhere hh_adoption = readtable(\"Data/Machine-Adoption/HH-HW-NewYork-Trips.csv\");\n",
    "@everywhere purch_vec = Array(hh_adoption[:purchased])\n",
    "@everywhere XMat = Array(hh_adoption[[:series, :price, :t, :mu_val, :warehouse]])"
   ]
  },
  {
   "cell_type": "markdown",
   "metadata": {},
   "source": [
    "Household Trip Positions"
   ]
  },
  {
   "cell_type": "code",
   "execution_count": null,
   "metadata": {
    "collapsed": false
   },
   "outputs": [],
   "source": [
    "@everywhere hh_pos = map(Int64, readdlm(\"Data/Machine-Adoption/HH-HW-NewYork-Pos.csv\", ','));\n",
    "@everywhere (ntrips,)= size(hh_pos);"
   ]
  },
  {
   "cell_type": "markdown",
   "metadata": {},
   "source": [
    "Price State Panel"
   ]
  },
  {
   "cell_type": "code",
   "execution_count": null,
   "metadata": {
    "collapsed": true
   },
   "outputs": [],
   "source": [
    "@everywhere price_states = readtable(\"Data/Machine-Adoption/HW-Prices-State.csv\");\n",
    "@everywhere price_states_wh = price_states[price_states[:warehouse].==1, :];\n",
    "@everywhere price_states_rg = price_states[price_states[:warehouse].==0, :];"
   ]
  },
  {
   "cell_type": "markdown",
   "metadata": {},
   "source": [
    "Transform Price States to the Format that can be used"
   ]
  },
  {
   "cell_type": "code",
   "execution_count": null,
   "metadata": {
    "collapsed": false
   },
   "outputs": [],
   "source": [
    "@everywhere price_wh = Dict{Int64, Any}()\n",
    "@everywhere for i in unique(price_states_wh[:tstate])\n",
    "    p_temp = price_states_wh[price_states_wh[:tstate].==i,:]\n",
    "    s_list = unique(p_temp[:series])\n",
    "    if in(1, s_list)\n",
    "        p1_list = Array(p_temp[p_temp[:series].==1, :price_int])\n",
    "        p1_prob = Array(p_temp[p_temp[:series].==1, :prob])\n",
    "    else \n",
    "        p1_list = [9999.]\n",
    "        p1_prob = [1.]\n",
    "    end\n",
    "    if in(2, s_list)\n",
    "        p2_list = Array(p_temp[p_temp[:series].==2, :price_int])\n",
    "        p2_prob = Array(p_temp[p_temp[:series].==2, :prob])\n",
    "    else \n",
    "        p2_list = [9999.]\n",
    "        p2_prob = [1.]\n",
    "    end\n",
    "    if in(3, s_list)\n",
    "        p3_list = Array(p_temp[p_temp[:series].==3, :price_int])\n",
    "        p3_prob = Array(p_temp[p_temp[:series].==3, :prob])\n",
    "    else \n",
    "        p3_list = [9999.]\n",
    "        p3_prob = [1.]\n",
    "    end\n",
    "    if in(4, s_list)\n",
    "        p4_list = Array(p_temp[p_temp[:series].==4, :price_int])\n",
    "        p4_prob = Array(p_temp[p_temp[:series].==4, :prob])\n",
    "    else \n",
    "        p4_list = [9999.]\n",
    "        p4_prob = [1.]\n",
    "    end\n",
    "    if in(5, s_list)\n",
    "        p5_list = Array(p_temp[p_temp[:series].==5, :price_int])\n",
    "        p5_prob = Array(p_temp[p_temp[:series].==5, :prob])\n",
    "    else \n",
    "        p5_list = [9999.]\n",
    "        p5_prob = [1.]\n",
    "    end\n",
    "    nprice = length(p1_list) * length(p2_list) * length(p3_list) * length(p4_list) * length(p5_list)\n",
    "    availvec = zeros(Float64, nprice, 5);\n",
    "    for s in 1:5\n",
    "        if in(s, s_list)\n",
    "            availvec[:,s] = 1.\n",
    "        end\n",
    "    end\n",
    "    pricevec = zeros(Float64, nprice, 5);\n",
    "    pricep  = zeros(Float64, nprice);\n",
    "    j = 0\n",
    "    for (i1, p1) in enumerate(p1_list), (i2, p2) in enumerate(p2_list), (i3, p3) in enumerate(p3_list), (i4, p4) in enumerate(p4_list), (i5, p5) in enumerate(p5_list)\n",
    "        j += 1;\n",
    "        pricevec[j,:] = [p1, p2, p3, p4, p5]\n",
    "        pricep[j] = p1_prob[i1] * p2_prob[i2] * p3_prob[i3] * p4_prob[i4] * p5_prob[i5]\n",
    "    end\n",
    "    pricep = pricep./sum(pricep)\n",
    "    price_wh[i] = Dict(:price => pricevec, :avail => availvec, :prob => pricep)\n",
    "end"
   ]
  },
  {
   "cell_type": "code",
   "execution_count": null,
   "metadata": {
    "collapsed": false
   },
   "outputs": [],
   "source": [
    "@everywhere price_rg = Dict{Int64, Any}()\n",
    "@everywhere for i in unique(price_states_rg[:tstate])\n",
    "    p_temp = price_states_rg[price_states_rg[:tstate].==i,:]\n",
    "    s_list = unique(p_temp[:series])\n",
    "    if in(1, s_list)\n",
    "        p1_list = Array(p_temp[p_temp[:series].==1, :price_int])\n",
    "        p1_prob = Array(p_temp[p_temp[:series].==1, :prob])\n",
    "    else \n",
    "        p1_list = [9999.]\n",
    "        p1_prob = [1.]\n",
    "    end\n",
    "    if in(2, s_list)\n",
    "        p2_list = Array(p_temp[p_temp[:series].==2, :price_int])\n",
    "        p2_prob = Array(p_temp[p_temp[:series].==2, :prob])\n",
    "    else \n",
    "        p2_list = [9999.]\n",
    "        p2_prob = [1.]\n",
    "    end\n",
    "    if in(3, s_list)\n",
    "        p3_list = Array(p_temp[p_temp[:series].==3, :price_int])\n",
    "        p3_prob = Array(p_temp[p_temp[:series].==3, :prob])\n",
    "    else \n",
    "        p3_list = [9999.]\n",
    "        p3_prob = [1.]\n",
    "    end\n",
    "    if in(4, s_list)\n",
    "        p4_list = Array(p_temp[p_temp[:series].==4, :price_int])\n",
    "        p4_prob = Array(p_temp[p_temp[:series].==4, :prob])\n",
    "    else \n",
    "        p4_list = [9999.]\n",
    "        p4_prob = [1.]\n",
    "    end\n",
    "    if in(5, s_list)\n",
    "        p5_list = Array(p_temp[p_temp[:series].==5, :price_int])\n",
    "        p5_prob = Array(p_temp[p_temp[:series].==5, :prob])\n",
    "    else \n",
    "        p5_list = [9999.]\n",
    "        p5_prob = [1.]\n",
    "    end\n",
    "    nprice = length(p1_list) * length(p2_list) * length(p3_list) * length(p4_list) * length(p5_list)\n",
    "    availvec = zeros(Float64, nprice, 5);\n",
    "    for s in 1:5\n",
    "        if in(s, s_list)\n",
    "            availvec[:,s] = 1.\n",
    "        end\n",
    "    end\n",
    "    pricevec = zeros(Float64, nprice, 5);\n",
    "    pricep  = zeros(Float64, nprice);\n",
    "    j = 0\n",
    "    for (i1, p1) in enumerate(p1_list), (i2, p2) in enumerate(p2_list), (i3, p3) in enumerate(p3_list), (i4, p4) in enumerate(p4_list), (i5, p5) in enumerate(p5_list)\n",
    "        j += 1;\n",
    "        pricevec[j,:] = [p1, p2, p3, p4, p5]\n",
    "        pricep[j] = p1_prob[i1] * p2_prob[i2] * p3_prob[i3] * p4_prob[i4] * p5_prob[i5]\n",
    "    end\n",
    "    pricep = pricep./sum(pricep)\n",
    "    price_rg[i] = Dict(:price => pricevec, :avail => availvec, :prob => pricep)\n",
    "end"
   ]
  },
  {
   "cell_type": "code",
   "execution_count": null,
   "metadata": {
    "collapsed": false
   },
   "outputs": [],
   "source": [
    "@everywhere nt = length(unique(price_states[:tstate]))\n",
    "@everywhere W0_wh = SharedArray(Float64, nt, nodes);\n",
    "@everywhere W0_rg = SharedArray(Float64, nt, nodes);"
   ]
  },
  {
   "cell_type": "markdown",
   "metadata": {},
   "source": [
    "##### Functions for Approximating the W Function"
   ]
  },
  {
   "cell_type": "code",
   "execution_count": null,
   "metadata": {
    "collapsed": false
   },
   "outputs": [],
   "source": [
    "# Kernal Density Function\n",
    "@everywhere function kden(θ1::Vector, θ0::Matrix, h::Real)\n",
    "    cdist = MvNormal(θ1, eye(length(θ1)))\n",
    "    denv = pdf(cdist, broadcast(-, θ0, θ1)/h)\n",
    "    return denv ./ sum(denv)\n",
    "end\n",
    "\n",
    "# W0 approximation\n",
    "@everywhere (nr, nc) = (nt, nodes)\n",
    "@everywhere N = 1000 # Number of lags to store and use for value function approximation.\n",
    "@everywhere function WApprox(theta::Vector, thetav::Matrix, wmat::Array{Float64,3})\n",
    "    wts = kden(theta, thetav, 0.01)'\n",
    "    wt = reshape(repmat(wts, nt*nodes), nodes, nt, N)\n",
    "    return (sum(wt .* wmat, 3)[:,:,1])'\n",
    "end\n",
    "\n",
    "# Bellman Operation on the Value Function once\n",
    "function W0V!(W0::SharedArray{Float64, 2}, wh::Int64)\n",
    "    @sync @parallel for i in 1:(nr-1)\n",
    "        Wn = W0[(i+1),:]\n",
    "        EW0Fun(x::Real) = capprox(vec(Wn), x::Real)\n",
    "        EW0 = exp(β * Float64[hermiteint(EW0Fun, α0+α1*ν, σ0) for ν in tcnode])\n",
    "        if wh == 1\n",
    "            nprice = length(price_wh[i][:prob])\n",
    "            util_mat = sum(exp(broadcast(+, ϑ', βp * price_wh[i][:price])/100) .* price_wh[i][:avail], 2)\n",
    "            util_mat = broadcast(*, util_mat, repmat(W1', nprice))\n",
    "            Wnew = sum(broadcast(*, log(broadcast(+, EW0', util_mat)), price_wh[i][:prob]), 1)\n",
    "        else\n",
    "            nprice = length(price_rg[i][:prob])\n",
    "            util_mat = sum(exp(broadcast(+, ϑ', βp * price_rg[i][:price])/100) .* price_rg[i][:avail], 2)\n",
    "            util_mat = broadcast(*, util_mat, repmat(W1', nprice))\n",
    "            Wnew = sum(broadcast(*, log(broadcast(+, EW0', util_mat)), price_rg[i][:prob]), 1)\n",
    "        end\n",
    "        W0[i,:] = Wnew\n",
    "    end\n",
    "    W0[nr,:] = W0[(nr-1),:]\n",
    "    return W0;\n",
    "end\n",
    "\n",
    "# For values of tstate and purchased - function of delta\n",
    "@everywhere function vfun(series::Int64, price::Real, ts::Int64, mu::Real, wh::Int64)\n",
    "    if wh==1\n",
    "        Wn = vec(W0_wh[ts,:])\n",
    "    else\n",
    "        Wn = vec(W0_rg[ts,:])\n",
    "    end\n",
    "    coef = getcoef(vec(Wn))\n",
    "    if series==0\n",
    "        EW0F(x::Real) = coefun(coef, x::Real)\n",
    "        val = exp(β*hermiteint(EW0F, α0+α1*mu, σ0))\n",
    "    else\n",
    "        val = exp((ϑ[series] + βp*price + w1appx(mu))/100)\n",
    "    end\n",
    "    return(val)\n",
    "end\n",
    "\n",
    "# Create a New column which stores the choice specific values\n",
    "@everywhere (nobs, nvars) = size(hh_adoption)\n",
    "@everywhere hh_adoption[:val] = 0.;\n",
    "@everywhere val = SharedArray(Float64, nobs);\n",
    "function vfun!()\n",
    "    @sync @parallel for i in 1:nobs\n",
    "        val[i]= vfun(XMat[i, 1], XMat[i, 2], hh_adoption[i, :t], hh_adoption[i, :mu_val], hh_adoption[i,:warehouse])\n",
    "    end\n",
    "end"
   ]
  },
  {
   "cell_type": "code",
   "execution_count": null,
   "metadata": {
    "collapsed": false
   },
   "outputs": [],
   "source": [
    "# Likelihood Function\n",
    "cp = SharedArray(Float64, ntrips)\n",
    "function llfun!()\n",
    "    @sync @parallel for trip in 1:ntrips\n",
    "        s_i = hh_pos[trip,2]\n",
    "        e_i = hh_pos[trip,3]\n",
    "        cp[trip] = sum(log(val[s_i:e_i]/sum(val[s_i:e_i])) .* purch_vec[s_i:e_i])\n",
    "    end\n",
    "    return sum(cp)\n",
    "end"
   ]
  },
  {
   "cell_type": "markdown",
   "metadata": {},
   "source": [
    "##### Settings for Estimation"
   ]
  },
  {
   "cell_type": "code",
   "execution_count": null,
   "metadata": {
    "collapsed": false
   },
   "outputs": [],
   "source": [
    "N = 1000 # Number of lags to store and use for value function approximation."
   ]
  },
  {
   "cell_type": "markdown",
   "metadata": {},
   "source": [
    "##### Function for Posterior Proportions"
   ]
  },
  {
   "cell_type": "code",
   "execution_count": null,
   "metadata": {
    "collapsed": false
   },
   "outputs": [],
   "source": [
    "function postd(l1::Real, l0::Real, theta1::Vector, theta0::Vector, bhat::Vector, sigb::Matrix)\n",
    "    return exp(l1 + log(pdf(MvNormal(bhat, sigb), theta1)) - l0 - log(pdf(MvNormal(bhat, sigb), theta0)))\n",
    "end"
   ]
  },
  {
   "cell_type": "markdown",
   "metadata": {},
   "source": [
    "##### MCMC Settings"
   ]
  },
  {
   "cell_type": "code",
   "execution_count": null,
   "metadata": {
    "collapsed": false
   },
   "outputs": [],
   "source": [
    "burnin = 0;\n",
    "thin   = 10;\n",
    "draws  = 1000;\n",
    "totdraws = draws*thin + burnin;"
   ]
  },
  {
   "cell_type": "markdown",
   "metadata": {},
   "source": [
    "##### Priors"
   ]
  },
  {
   "cell_type": "code",
   "execution_count": null,
   "metadata": {
    "collapsed": false
   },
   "outputs": [],
   "source": [
    "bhat = zeros(Float64, 6)\n",
    "sigb = eye(6)*100"
   ]
  },
  {
   "cell_type": "markdown",
   "metadata": {},
   "source": [
    "Random Walk MH outer loop"
   ]
  },
  {
   "cell_type": "code",
   "execution_count": null,
   "metadata": {
    "collapsed": false
   },
   "outputs": [],
   "source": [
    "@everywhere theta0 = zeros(6)\n",
    "#theta0[2] = 0.05\n",
    "# Let the proposal variance to be small\n",
    "@everywhere sigs = eye(6)/10\n",
    "@everywhere walkdistr = MvNormal(zeros(6), sigs);"
   ]
  },
  {
   "cell_type": "markdown",
   "metadata": {},
   "source": [
    "Initialize storage for proposal parameters and corresponding w"
   ]
  },
  {
   "cell_type": "code",
   "execution_count": null,
   "metadata": {
    "collapsed": false
   },
   "outputs": [],
   "source": [
    "thtild = zeros(Float64, 6, N);\n",
    "wtild_wh = zeros(Float64, nodes, nt, N);\n",
    "wtild_rg = zeros(Float64, nodes, nt, N);"
   ]
  },
  {
   "cell_type": "code",
   "execution_count": null,
   "metadata": {
    "collapsed": false
   },
   "outputs": [],
   "source": [
    "@everywhere ϑ = theta0[1:5];\n",
    "@everywhere βp = theta0[6];\n",
    "W0_wh[:] =  WApprox(theta0, thtild, wtild_wh) # Approximate the new W0_wh\n",
    "W0_rg[:] =  WApprox(theta0, thtild, wtild_rg) # Approximate the new W0_rg\n",
    "vfun!() # Compute the choice specific value for each observation\n",
    "l0 = llfun!();"
   ]
  },
  {
   "cell_type": "markdown",
   "metadata": {},
   "source": [
    "Initialize storage of MCMC draws"
   ]
  },
  {
   "cell_type": "code",
   "execution_count": null,
   "metadata": {
    "collapsed": true
   },
   "outputs": [],
   "source": [
    "thatd = zeros(Float64, draws, 2);"
   ]
  },
  {
   "cell_type": "markdown",
   "metadata": {},
   "source": [
    "Let the bandwidth to be very small"
   ]
  },
  {
   "cell_type": "code",
   "execution_count": null,
   "metadata": {
    "collapsed": false
   },
   "outputs": [],
   "source": [
    "## MCMC Draws\n",
    "for d=1:totdraws\n",
    "    # Proposed theta\n",
    "    theta1 = theta0 + vec(rand(walkdistr, 1))\n",
    "        \n",
    "    # Define the relevant parameters\n",
    "    @everywhere ϑ = theta0[1:5];\n",
    "    @everywhere βp = theta0[6];\n",
    "    \n",
    "    # Approximate W function\n",
    "    W0_wh[:] =  WApprox(theta0, thtild, wtild_wh) # Approximate the new W0_wh\n",
    "    W0_rg[:] =  WApprox(theta0, thtild, wtild_rg) # Approximate the new W0_rg\n",
    "    \n",
    "    # Bellman Iteration\n",
    "    W0V!(W0_wh, 1)\n",
    "    W0V!(W0_rg, 0)\n",
    "\n",
    "    # Compute choice specific value\n",
    "    vfun!() # Compute the choice specific value for each observation\n",
    "    l1 = llfun!();\n",
    "    \n",
    "    # Update the draws storage\n",
    "    wtild_wh[:, :, 2:end] = wtild_wh[:, :, 1:(end-1)]\n",
    "    wtild_wh[:, :, 1] = Array(W0_wh)\n",
    "    wtild_rg[:, :, 2:end] = wtild_rg[:, :, 1:(end-1)]\n",
    "    wtild_rg[:, :, 1] = Array(W0_rg)\n",
    "    thtild[:, 2:end] = thtild[:, 1:(end-1)]\n",
    "    thtild[:, 1] = theta1\n",
    "    \n",
    "    alpha = min(1, postd(l1, l0, theta1, theta0, bhat, sigb))\n",
    "    if rand() <= alpha\n",
    "        theta0 = theta1\n",
    "        l0 = l1\n",
    "    end\n",
    "\n",
    "    # Store the posterior draws of mean betas and sigmas\n",
    "    if ((d > burnin) && (d % thin == 0))\n",
    "        indx = ceil(Int64, (d - burnin)/thin) \n",
    "        thatd[indx, :] = theta0;\n",
    "    end\n",
    "\n",
    "    # Indicate the progress\n",
    "    println(theta0)\n",
    "    println(\"Finished drawing $(d) out of $(totdraws)\")\n",
    "end"
   ]
  }
 ],
 "metadata": {
  "kernelspec": {
   "display_name": "Julia 0.4.2",
   "language": "julia",
   "name": "julia-0.4"
  },
  "language_info": {
   "file_extension": ".jl",
   "mimetype": "application/julia",
   "name": "julia",
   "version": "0.4.2"
  }
 },
 "nbformat": 4,
 "nbformat_minor": 0
}
